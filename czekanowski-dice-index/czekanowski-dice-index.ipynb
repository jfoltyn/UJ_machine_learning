{
 "cells": [
  {
   "cell_type": "code",
   "execution_count": 1,
   "metadata": {},
   "outputs": [],
   "source": [
    "import numpy as np\n",
    "\n",
    "def czekanowski_dice_index(data_set, assignation, labels, average = None):\n",
    "    assigned_groups = build_assigned_groups(assignation)\n",
    "    classes = assignation.shape[1]\n",
    "    confusion_matrix = build_confusion_matrix(classes, assigned_groups, labels)\n",
    "    \n",
    "    true_positives = confusion_matrix.diagonal()\n",
    "    false_positives = confusion_matrix.sum(axis=1) - confusion_matrix.diagonal()\n",
    "    false_negatives = confusion_matrix.sum(axis=0) - confusion_matrix.diagonal()\n",
    "    \n",
    "    if average == 'micro':\n",
    "        summed_true_positives = true_positives.sum()\n",
    "        summed_false_positives = false_positives.sum()\n",
    "        summed_false_negatives = false_negatives.sum()\n",
    "        \n",
    "        precision = summed_true_positives / (summed_true_positives + summed_false_positives)\n",
    "        recall = summed_true_positives / (summed_true_positives + summed_false_negatives)\n",
    "        return (2 * precision * recall)/(precision + recall), assigned_groups\n",
    "    \n",
    "    if average == None:\n",
    "        per_class_precission = true_positives / (true_positives + false_positives)\n",
    "        per_class_recall = true_positives / (true_positives + false_negatives)\n",
    "        return (2 * per_class_precission * per_class_recall) / (per_class_precission + per_class_recall), assigned_groups\n",
    "    \n",
    "    \n",
    "\n",
    "def build_confusion_matrix(classes, results, labels):\n",
    "    confusion_matrix = np.zeros([classes, classes])\n",
    "    for actual, expected in zip(results, labels):\n",
    "        confusion_matrix[expected, actual] += 1\n",
    "        \n",
    "    return confusion_matrix\n",
    "\n",
    "\n",
    "def build_assigned_groups(assignation_matrix):\n",
    "    assigned_groups = []\n",
    "    for el in range(len(assignation)):\n",
    "        group_id = np.argmax(assignation[el]) \n",
    "        assigned_groups.append(group_id)\n",
    "    \n",
    "    return assigned_groups"
   ]
  },
  {
   "cell_type": "code",
   "execution_count": 21,
   "metadata": {},
   "outputs": [
    {
     "name": "stdout",
     "output_type": "stream",
     "text": [
      "Per Class\n",
      "[0.33178295 0.31770045 0.33429395]\n",
      "[0.33178295 0.31770045 0.33429395]\n",
      "\n",
      "With 'micro' Averaging\n",
      "0.328\n",
      "0.328\n"
     ]
    }
   ],
   "source": [
    "from sklearn.metrics import f1_score\n",
    "\n",
    "DATA_POINTS = 1000\n",
    "CLASSES = 3\n",
    "\n",
    "y_true = np.floor(np.random.rand(DATA_POINTS) * CLASSES).astype(int)\n",
    "assignation = np.random.rand(DATA_POINTS, CLASSES)\n",
    "\n",
    "AVERAGE = None\n",
    "homeworkw_impl, y_pred = czekanowski_dice_index(None, assignation, y_true, average=AVERAGE)\n",
    "f1_impl = f1_score(y_true, y_pred, average=AVERAGE)\n",
    "\n",
    "print('Per Class')\n",
    "print(homeworkw_impl)\n",
    "print(f1_impl)\n",
    "\n",
    "\n",
    "AVERAGE = 'micro'\n",
    "homeworkw_impl, y_pred = czekanowski_dice_index(None, assignation, y_true, average=AVERAGE)\n",
    "f1_impl = f1_score(y_true, y_pred, average=AVERAGE)\n",
    "print('\\nWith \\'micro\\' Averaging')\n",
    "print(homeworkw_impl)\n",
    "print(f1_impl)"
   ]
  }
 ],
 "metadata": {
  "kernelspec": {
   "display_name": "Python 3",
   "language": "python",
   "name": "python3"
  },
  "language_info": {
   "codemirror_mode": {
    "name": "ipython",
    "version": 3
   },
   "file_extension": ".py",
   "mimetype": "text/x-python",
   "name": "python",
   "nbconvert_exporter": "python",
   "pygments_lexer": "ipython3",
   "version": "3.6.5"
  }
 },
 "nbformat": 4,
 "nbformat_minor": 2
}
