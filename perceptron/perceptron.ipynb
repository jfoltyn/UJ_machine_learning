{
 "cells": [
  {
   "cell_type": "code",
   "execution_count": 9,
   "metadata": {},
   "outputs": [
    {
     "name": "stdout",
     "output_type": "stream",
     "text": [
      "######## FINAL ########\n",
      "Accuracy: 1.0\n",
      "Weights: [-0.36703259  0.44633114]\n",
      "Bias: 0.6090360388227029\n"
     ]
    },
    {
     "data": {
      "image/png": "[encoded data removed]",
      "text/plain": [
       "<Figure size 432x288 with 1 Axes>"
      ]
     },
     "metadata": {},
     "output_type": "display_data"
    }
   ],
   "source": [
    "import numpy as np\n",
    "import matplotlib.pyplot as plt\n",
    "from sklearn.datasets import load_iris\n",
    "from sklearn.linear_model import Perceptron\n",
    "\n",
    "iris = load_iris()\n",
    "X = iris.data[:, (2, 3)]  # use only petal length and petal width\n",
    "y = (iris.target == 0).astype(np.int) # check only if it's an Iris-Setosa (1), or no (0)\n",
    "\n",
    "class Perceptron():\n",
    "    \n",
    "    def __init__(self, inputs, learning_rate = 0.001, epochs_to_train = 10000):\n",
    "        self.inputs = inputs\n",
    "        self.bias = (2 * np.random.random()) - 1\n",
    "        self.weights = (2 * np.random.rand(inputs)) - 1\n",
    "        self.learning_rate = learning_rate\n",
    "        self.epochs_to_train = epochs_to_train\n",
    "        \n",
    "        \n",
    "    def predict(self, data):\n",
    "        activation = self.bias\n",
    "        activation += self.weights.dot(data)\n",
    "        return self.binary_activation_function(activation)\n",
    "    \n",
    "    \n",
    "    def binary_activation_function(self, activation_value):\n",
    "        return 1 if activation_value >= 0 else 0\n",
    "    \n",
    "    \n",
    "    def train(self, training_data, labels, verbose = False):\n",
    "        for epoch in range(self.epochs_to_train):\n",
    "            correct_predictions = 0\n",
    "            for data_point, label in zip(training_data, labels):\n",
    "                prediction = self.predict(data_point)\n",
    "                if prediction == label:\n",
    "                    correct_predictions += 1\n",
    "                else:\n",
    "                    self.bias -= self.learning_rate * (prediction - label)\n",
    "                    for i in range(len(self.weights)):\n",
    "                        self.weights[i] -= self.learning_rate * (prediction - label) * data_point[i]\n",
    "            if verbose and epoch % 10 == 0:\n",
    "                print('######## EPOCH ' + str(epoch) + ' ########')\n",
    "                print('Accuracy: ' + str(correct_predictions / len(training_data)))\n",
    "                print('Weights: ' + str(self.weights))\n",
    "                print('Bias: ' + str(self.bias))\n",
    "                \n",
    "        print('######## FINAL ########')\n",
    "        print('Accuracy: ' + str(correct_predictions / len(training_data)))\n",
    "        print('Weights: ' + str(self.weights))\n",
    "        print('Bias: ' + str(self.bias))\n",
    "                \n",
    "    \n",
    "    \n",
    "perceptron = Perceptron(2, epochs_to_train=500)\n",
    "perceptron.train(X[:-50], y[:-50])\n",
    "\n",
    "min_value = X[:,0].min()\n",
    "max_value = X[:,0].max()\n",
    "slope = -(perceptron.weights[0]/perceptron.weights[1])\n",
    "offset = -perceptron.bias/perceptron.weights[1]\n",
    "plt.plot([min_value, max_value], [slope*min_value + offset, slope*max_value + offset])\n",
    "\n",
    "IrisSetosaIndexes = [i for i in range(len(y)) if y[i] == 1]\n",
    "OthersIndexes = [i for i in range(len(y)) if y[i] == 0]\n",
    "plt.plot(X[:,0][IrisSetosaIndexes] , X[:,1][IrisSetosaIndexes], 'b.')\n",
    "plt.plot(X[:,0][OthersIndexes] , X[:,1][OthersIndexes], 'r.')\n",
    "plt.xlabel('Input1')\n",
    "plt.ylabel('Input2')\n",
    "plt.ylim(X[:,1].min(), X[:,1].max())\n",
    "plt.show()"
   ]
  },
  {
   "cell_type": "code",
   "execution_count": 24,
   "metadata": {},
   "outputs": [
    {
     "data": {
      "text/plain": [
       "1"
      ]
     },
     "execution_count": 24,
     "metadata": {},
     "output_type": "execute_result"
    }
   ],
   "source": [
    "perceptron.predict([1.6,0])"
   ]
  }
 ],
 "metadata": {
  "kernelspec": {
   "display_name": "Python 3",
   "language": "python",
   "name": "python3"
  },
  "language_info": {
   "codemirror_mode": {
    "name": "ipython",
    "version": 3
   },
   "file_extension": ".py",
   "mimetype": "text/x-python",
   "name": "python",
   "nbconvert_exporter": "python",
   "pygments_lexer": "ipython3",
   "version": "3.6.5"
  }
 },
 "nbformat": 4,
 "nbformat_minor": 2
}
